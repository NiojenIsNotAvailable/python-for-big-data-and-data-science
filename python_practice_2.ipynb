{
 "cells": [
  {
   "cell_type": "markdown",
   "metadata": {
    "id": "p9wwt0LZzNvn"
   },
   "source": [
    "# Горячок Дарина 5 група\n",
    "\n",
    "# I. Змінні та памʼять."
   ]
  },
  {
   "cell_type": "markdown",
   "metadata": {
    "id": "HTJrrm95xSV9"
   },
   "source": [
    "1. Створити змінні, що посилаються на два цілих числа, що однакові за значенням, де значення належить проміжку від -5 до 256. Перевірте, чи будуть ці змінні рівні тільки за значенням або ж ще будуть посилатися на один і той самий обʼєкт в памʼяті? Наведіть код та дайте текстову відповідь нижче."
   ]
  },
  {
   "cell_type": "code",
   "execution_count": null,
   "metadata": {
    "id": "TATni2vzayjG"
   },
   "outputs": [],
   "source": [
    "a = 100\n",
    "b = 100\n",
    "\n",
    "print(a == b) \n",
    "\n",
    "print(a is b)  "
   ]
  },
  {
   "cell_type": "markdown",
   "metadata": {
    "id": "zfRG_o3WbRdg"
   },
   "source": [
    "Створили змінні a і b, що посилаються на однакові значення в діапазоні від -5 до 256\n",
    "Перевірили рівність за значенням (True, оскільки значення однакові)\n",
    "Перевірили, чи посилаються змінні на один і той самий об'єкт в пам'яті (True, оскільки для чисел в діапазоні -5 до 256 використовується одна адреса пам'яті)"
   ]
  },
  {
   "cell_type": "markdown",
   "metadata": {
    "id": "ISORzt6M3vAt"
   },
   "source": [
    "2. За допомогою якої функції можна перевірити належність змінної до вказаного типу даних (напр. чи змінна True посилається на значення булевого та цілочисленого типу)?"
   ]
  },
  {
   "cell_type": "code",
   "execution_count": null,
   "metadata": {
    "id": "9vL9CFaMbfyo"
   },
   "outputs": [],
   "source": [
    "#isinstance()\n",
    "value = True\n",
    "print(isinstance(value, bool))  # Check if value is of boolean type\n",
    "print(isinstance(value, int))   # Check if value is of integer type"
   ]
  },
  {
   "cell_type": "markdown",
   "metadata": {
    "id": "tRxugKAxwYLw"
   },
   "source": [
    "# II. Цілі числа та числа з рухомою комою"
   ]
  },
  {
   "cell_type": "markdown",
   "metadata": {
    "id": "NLHkgd5Gybc8"
   },
   "source": [
    "3. Створити дві змінні, що посилаються на будь-які ціле число та число з рухомою комою та продемонструвати такі арифметичні операції: додавання, віднімання, ділення, множення, ділення без залишку, ділення по модулю, приведення до ступеню. Всі результати операцій вивести на екран."
   ]
  },
  {
   "cell_type": "code",
   "execution_count": null,
   "metadata": {
    "id": "nb8u_3pjb2cA"
   },
   "outputs": [],
   "source": [
    "a = 10\n",
    "b = 3.5\n",
    "\n",
    "print(\"Addition:\", a + b)\n",
    "print(\"Subtraction:\", a - b)\n",
    "print(\"Multiplication:\", a * b)\n",
    "print(\"Division:\", a / b)\n",
    "print(\"Floor Division:\", a // b)\n",
    "print(\"Modulus:\", a % b)\n",
    "print(\"Exponentiation:\", a ** b)"
   ]
  },
  {
   "cell_type": "markdown",
   "metadata": {
    "id": "1kBClKgPzZnC"
   },
   "source": [
    "4. Використовуючи змінні з вправи 3, продемонструйте механізм явного перетворення типів, де числа з рухомою комою перетворюються на цілі числа. Також визначте змінну, що посилається на значення булевого типу і спробуйте явно привести її до цілого числа."
   ]
  },
  {
   "cell_type": "code",
   "execution_count": null,
   "metadata": {
    "id": "TbqJbkeUcKsD"
   },
   "outputs": [],
   "source": [
    "float_to_int = int(b)  \n",
    "print(\"Float to Int:\", float_to_int)\n",
    "\n",
    "bool_value = True\n",
    "bool_to_int = int(bool_value)\n",
    "print(\"Boolean to Int:\", bool_to_int)"
   ]
  },
  {
   "cell_type": "markdown",
   "metadata": {
    "id": "EVJ7AflwxrZi"
   },
   "source": [
    "# IІІ. Рядки (String)."
   ]
  },
  {
   "cell_type": "markdown",
   "metadata": {
    "id": "_s5ECzz9zE61"
   },
   "source": [
    "5. Створити пустий рядок двома різними способами."
   ]
  },
  {
   "cell_type": "code",
   "execution_count": null,
   "metadata": {
    "id": "fkZJHu9Scvc-"
   },
   "outputs": [],
   "source": [
    "# 1\n",
    "empty_string1 = \"\"\n",
    "\n",
    "# 2\n",
    "empty_string2 = str()\n",
    "\n",
    "print(empty_string1, empty_string2)"
   ]
  },
  {
   "cell_type": "markdown",
   "metadata": {
    "id": "4Bdn9J3MzLf_"
   },
   "source": [
    "6. Створити рядок з апострофом. Зробити його сирим. Вивести обидва рядка на екран."
   ]
  },
  {
   "cell_type": "code",
   "execution_count": null,
   "metadata": {
    "id": "ivji_hsmc0GH"
   },
   "outputs": [],
   "source": [
    "# Regular string with apostrophe\n",
    "regular_string = \"my favorite language's piton♡.\"\n",
    "\n",
    "# Raw string\n",
    "raw_string = r\"my favorite language's piton♡\"\n",
    "\n",
    "print(regular_string)\n",
    "print(raw_string)"
   ]
  },
  {
   "cell_type": "markdown",
   "metadata": {
    "id": "bg_d8wM4z8dS"
   },
   "source": [
    "7. Створити змінну, що буде посилатися на Ваше прізвище латинкою. Створити форматований рядок, який буде мати вигляд \"My surname is ______\", де на місці нижніх підкреслень буде Ваше прізвище зі змінної."
   ]
  },
  {
   "cell_type": "code",
   "execution_count": null,
   "metadata": {
    "id": "kuxFgpWndACq"
   },
   "outputs": [],
   "source": [
    "surname = \"Horiachok\"\n",
    "formatted_string = f\"My surname is {surname}\"\n",
    "print(formatted_string)"
   ]
  },
  {
   "cell_type": "markdown",
   "metadata": {
    "id": "1Nc6RqvQ0hxU"
   },
   "source": [
    "8. Маючи рядок \"My dog is crazy.\" перетворити його на список [\"my\", \"dog\", \"is\", \"crazy\"]"
   ]
  },
  {
   "cell_type": "code",
   "execution_count": null,
   "metadata": {
    "id": "w1Ya4RqedUhw"
   },
   "outputs": [],
   "source": [
    "sentence = \"My dog is crazy.\"\n",
    "word_list = sentence.lower().split()\n",
    "print(word_list)"
   ]
  },
  {
   "cell_type": "markdown",
   "metadata": {
    "id": "GYVqN9uP1D4n"
   },
   "source": [
    "# IV. Робота зі списками."
   ]
  },
  {
   "cell_type": "markdown",
   "metadata": {
    "id": "7-DeDunw2sO-"
   },
   "source": [
    "9. Створити список двома різними за синтаксисом способами. За допомогою вбудованої функції обчисліть довжину одного з них."
   ]
  },
  {
   "cell_type": "code",
   "execution_count": null,
   "metadata": {
    "id": "zxg06Uuxdyoh"
   },
   "outputs": [],
   "source": [
    "# 1\n",
    "list1 = [1, 2, 3, 4]\n",
    "\n",
    "# 2\n",
    "list2 = list((5, 6, 7, 8))\n",
    "\n",
    "print(\"Length of list1:\", len(list1))"
   ]
  },
  {
   "cell_type": "markdown",
   "metadata": {
    "id": "8vmGUTjL22gI"
   },
   "source": [
    "10. Створіть два списка та за допомогою спеціального методу додайте другий з них в якості останнього елемента першого."
   ]
  },
  {
   "cell_type": "code",
   "execution_count": null,
   "metadata": {
    "id": "uHtjWYw7d7hm"
   },
   "outputs": [],
   "source": [
    "list1 = [1, 2, 3]\n",
    "list2 = [4, 5, 6]\n",
    "\n",
    "list1.append(list2)\n",
    "print(list1)"
   ]
  },
  {
   "cell_type": "markdown",
   "metadata": {
    "id": "JC3BkD-67_--"
   },
   "source": [
    "11. Створіть список, де елементами цього списку також є списки. Отримай перший елемент з останнього рядка та виведи значення на екран."
   ]
  },
  {
   "cell_type": "code",
   "execution_count": null,
   "metadata": {
    "id": "Kz2jZHsGeLlz"
   },
   "outputs": [],
   "source": [
    "list_of_lists = [[1, 2], [3, 4], [5, 6]]\n",
    "first_element_last_sublist = list_of_lists[-1][0]\n",
    "print(first_element_last_sublist)"
   ]
  },
  {
   "cell_type": "markdown",
   "metadata": {
    "id": "JA47PKTv8zFK"
   },
   "source": [
    "12. Створіть список з десяти елементів різного типу. Отримайте всі елементи, окрім двох перших та двох останніх та збережіть їх в новій змінній."
   ]
  },
  {
   "cell_type": "code",
   "execution_count": null,
   "metadata": {
    "id": "_rHdUR-ueP4-"
   },
   "outputs": [],
   "source": [
    "my_list = [1, 2, 3, 4, 5, 6, 7, 8, 9, 10]\n",
    "sliced_list = my_list[2:-2]\n",
    "print(sliced_list)"
   ]
  },
  {
   "cell_type": "markdown",
   "metadata": {
    "id": "pCjR1dJb1Qbi"
   },
   "source": [
    "# V. Робота з кортежами."
   ]
  },
  {
   "cell_type": "markdown",
   "metadata": {
    "id": "fAZCxAX06R_k"
   },
   "source": [
    "14. Створити кортеж з один елементом."
   ]
  },
  {
   "cell_type": "code",
   "execution_count": null,
   "metadata": {
    "id": "H7d82WkQev3e"
   },
   "outputs": [],
   "source": [
    "single_element_tuple = (42,)\n",
    "print(single_element_tuple)"
   ]
  },
  {
   "cell_type": "markdown",
   "metadata": {
    "id": "8LCtYcmI6w1M"
   },
   "source": [
    "15. Порівняйте список та кортеж. Назвіть схожості та відмінності, випадки використання."
   ]
  },
  {
   "cell_type": "markdown",
   "metadata": {
    "id": "fUsN1Hnue0C6"
   },
   "source": [
    "Схожості:\n",
    "\n",
    "    Зберігання елементів: І списки, і кортежі можуть зберігати кілька елементів.\n",
    "\n",
    "    Порядок елементів: Обидва типи даних зберігають елементи в певному порядку.\n",
    "\n",
    "    Індексація та зрізи: До елементів списків і кортежів можна звертатися за індексом, а також використовувати зрізи.\n",
    "\n",
    "Відмінності:\n",
    "\n",
    "    Змінність:\n",
    "\n",
    "        Списки: Змінні (mutable) — можна змінювати, додавати або видаляти елементи після створення.\n",
    "\n",
    "        Кортежі: Незмінні (immutable) — після створення їх не можна змінювати.\n",
    "\n",
    "    Синтаксис:\n",
    "\n",
    "        Списки: Використовують квадратні дужки [].\n",
    "\n",
    "        Кортежі: Використовують круглі дужки ().\n",
    "\n",
    "    Швидкість:\n",
    "\n",
    "        Кортежі: Працюють швидше за списки, оскільки вони незмінні та займають менше пам'яті.\n",
    "\n",
    "        Списки: Повільніші через можливість змін.\n",
    "\n",
    "Випадки використання:\n",
    "\n",
    "    Списки: Використовуються, коли потрібно зберігати дані, які можуть змінюватися (наприклад, список завдань, елементи якого можна додавати або видаляти).\n",
    "\n",
    "    Кортежі: Використовуються для зберігання незмінних даних (наприклад, координати точки, дати, ключі в словниках).."
   ]
  },
  {
   "cell_type": "markdown",
   "metadata": {
    "id": "m0xrwFijAmDD"
   },
   "source": [
    "16. Створіть кортеж з 11ти елементів чисел з рухомою комою та отримайте кожен парний за індексом елемент в зворотньому порядку. Наприклад, маючи (1.2, 2.3, 3.3, 4.3, 5.3, 6.3, 7.3, 8.3, 9.3, 0.3), отримати (0.3, 8.3, 6.3, 4.3, 2.3). Результат збережіть в нову змінну та виведіть на екран."
   ]
  },
  {
   "cell_type": "code",
   "execution_count": null,
   "metadata": {
    "id": "p-5DAH6XfAGA"
   },
   "outputs": [],
   "source": [
    "my_tuple = (1.2, 2.3, 3.3, 4.3, 5.3, 6.3, 7.3, 8.3, 9.3, 0.3, 10.3)\n",
    "even_indexed_elements = my_tuple[::-2]\n",
    "print(even_indexed_elements)"
   ]
  },
  {
   "cell_type": "markdown",
   "metadata": {
    "id": "rW_I9dt3x6cW"
   },
   "source": [
    "# VI. Множини (Set)."
   ]
  },
  {
   "cell_type": "markdown",
   "metadata": {
    "id": "zNjRLHLw1Bgg"
   },
   "source": [
    "17. Створити множину без елементів. Після цого за допомогою методу додайте кілька різних елементів до множини. Чи множини є змінним типом даних?"
   ]
  },
  {
   "cell_type": "code",
   "execution_count": null,
   "metadata": {
    "id": "KOv7zc2Kfo4N"
   },
   "outputs": [],
   "source": [
    "my_set = set()  \n",
    "my_set.add(1)\n",
    "my_set.add(2)\n",
    "my_set.add(3)\n",
    "\n",
    "print(my_set)"
   ]
  },
  {
   "cell_type": "markdown",
   "metadata": {
    "id": "vxS6dVYiftZQ"
   },
   "source": [
    "Множини є змінним типом даних тому що ми можемо додавати/прибирати елементи."
   ]
  },
  {
   "cell_type": "markdown",
   "metadata": {
    "id": "gHpT0Zw_1HEF"
   },
   "source": [
    "18. Створити множину, маючи список my_list = [1, 1, 2, 67, 67, 8, 9]. Пояснити, чому \"зникли\" деякі елементи."
   ]
  },
  {
   "cell_type": "code",
   "execution_count": null,
   "metadata": {
    "id": "qCN4uvJ_fxmu"
   },
   "outputs": [],
   "source": [
    "my_list = [1, 1, 2, 67, 67, 8, 9]\n",
    "my_set = set(my_list)\n",
    "print(my_set)"
   ]
  },
  {
   "cell_type": "markdown",
   "metadata": {
    "id": "tFNc1e20fyny"
   },
   "source": [
    "Тому що множини зберігають лише унікальні елементи, тож дублікати прибрало."
   ]
  },
  {
   "cell_type": "markdown",
   "metadata": {
    "id": "SRMkGizS1UwY"
   },
   "source": [
    "19. Створіть дві множини. Продемонстуйте над ними операції: обʼєднання, різниці, пересічі та симетричної різниці. Використовуйте методи, що не змінюють множини, а створюють нові."
   ]
  },
  {
   "cell_type": "code",
   "execution_count": null,
   "metadata": {
    "id": "h0T-VuDnf3Ri"
   },
   "outputs": [],
   "source": [
    "set1 = {1, 2, 3, 4}\n",
    "set2 = {3, 4, 5, 6}\n",
    "\n",
    "print(\"Union:\", set1.union(set2))\n",
    "\n",
    "print(\"Difference:\", set1.difference(set2))\n",
    "\n",
    "print(\"Intersection:\", set1.intersection(set2))\n",
    "\n",
    "print(\"Symmetric Difference:\", set1.symmetric_difference(set2))"
   ]
  },
  {
   "cell_type": "markdown",
   "metadata": {
    "id": "kWc8gkzTx7Ea"
   },
   "source": [
    "# VII. Словники (Dictionary)."
   ]
  },
  {
   "cell_type": "markdown",
   "metadata": {
    "id": "i5FLwj-B2ybQ"
   },
   "source": [
    "20. Створіть пустий словник. До нього додайте чотири пари елементів такі, щоб їхні ключі були різних типів. Чи може список бути ключем? Чому?"
   ]
  },
  {
   "cell_type": "code",
   "execution_count": null,
   "metadata": {
    "id": "hxgv3BzrgLAV"
   },
   "outputs": [],
   "source": [
    "my_dict = {\n",
    "    1: \"Integer key\",\n",
    "    \"name\": \"String key\",\n",
    "    (1, 2): \"Tuple key\",\n",
    "    True: \"Boolean key\"\n",
    "}\n",
    "\n",
    "print(my_dict)"
   ]
  },
  {
   "cell_type": "markdown",
   "metadata": {
    "id": "zwa7UVN-gR3m"
   },
   "source": [
    "Список не може бути ключем у словнику, бо ключі словника повинні бути незмінними (immutable) об'єктами, оскільки вони використовуються для хешування. Списки є змінними (mutable), тому вони не можуть бути ключами. Натомість можна використовувати кортежі, які є незмінними."
   ]
  },
  {
   "cell_type": "markdown",
   "metadata": {
    "id": "WM_pMlJsgoNf"
   },
   "source": [
    "21. Створіть словник, де значенням в одній з пар теж буде словник, який теж має вкладений словник. Виведіть на екран значення, що міститься в словнику, що знаходиться на найнижчому рівні ієрархії вкладеності (найбільш внутрішній)."
   ]
  },
  {
   "cell_type": "code",
   "execution_count": null,
   "metadata": {
    "id": "60dlP7IHhAy4"
   },
   "outputs": [],
   "source": [
    "nested_dict = {\n",
    "    \"level1\": {\n",
    "        \"level2\": {\n",
    "            \"level3\": \"Innermost value\"\n",
    "        }\n",
    "    }\n",
    "}\n",
    "\n",
    "innermost_value = nested_dict[\"level1\"][\"level2\"][\"level3\"]\n",
    "print(innermost_value)"
   ]
  },
  {
   "cell_type": "markdown",
   "metadata": {
    "id": "xOZP0hkx6cCr"
   },
   "source": [
    "# Вітаю! Ви велика(ий) молодець, що впоралась(вся). Похваліть себе та побалуйте чимось приємним. Я Вами пишаюся.\n",
    "\n",
    "хвалю"
   ]
  }
 ],
 "metadata": {
  "colab": {
   "provenance": []
  },
  "kernelspec": {
   "display_name": "Python 3",
   "name": "python3"
  },
  "language_info": {
   "name": "python",
   "version": "3.12.6"
  }
 },
 "nbformat": 4,
 "nbformat_minor": 0
}
