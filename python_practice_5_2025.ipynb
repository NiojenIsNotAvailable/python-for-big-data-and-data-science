{
 "nbformat": 4,
 "nbformat_minor": 0,
 "metadata": {
  "colab": {
   "provenance": []
  },
  "kernelspec": {
   "name": "python3",
   "display_name": "Python 3 (ipykernel)",
   "language": "python"
  },
  "language_info": {
   "name": "python"
  }
 },
 "cells": [
  {
   "cell_type": "markdown",
   "source": [
    "# Daryna Horiachok group 5\n",
    "# I. OOP"
   ],
   "metadata": {
    "id": "5qV_sehzFCTp"
   }
  },
  {
   "cell_type": "markdown",
   "source": [
    "1. (6б). Створіть клас Building, додайте три атрибути, один з яких має значення за замовчуванням та два методи на свій розсуд."
   ],
   "metadata": {
    "id": "tx_U_hOALyfg"
   }
  },
  {
   "cell_type": "code",
   "source": [
    "class Building:\n",
    "    def __init__(self, name, floors, purpose=\"Residential\"):\n",
    "        self.name = name\n",
    "        self.floors = floors\n",
    "        self.purpose = purpose\n",
    "\n",
    "    def display_info(self):\n",
    "        print(f\"Building: {self.name}, Floors: {self.floors}, Purpose: {self.purpose}\")\n",
    "\n",
    "    def is_high_rise(self):\n",
    "        return self.floors > 10"
   ],
   "metadata": {
    "id": "-Vf895KaL88N",
    "ExecuteTime": {
     "end_time": "2025-03-17T19:04:29.604198Z",
     "start_time": "2025-03-17T19:04:29.596925Z"
    }
   },
   "outputs": [],
   "execution_count": 1
  },
  {
   "cell_type": "markdown",
   "source": [
    "2. (2б). Створіть два обʼєкти цього класу, де один з обʼєктів створюється із дефолтним значенням атрибуту. На одному обʼєкті отримайте значення його атрибуту, а на іншому викличте один з його методів."
   ],
   "metadata": {
    "id": "X_UlOMB0L93w"
   }
  },
  {
   "cell_type": "code",
   "source": [
    "building1 = Building(\"Pes Patron Tower\", 25)\n",
    "building2 = Building(\"Kit Stepan House\", 5)\n",
    "\n",
    "# 1\n",
    "print(building1.name)\n",
    "\n",
    "# 2\n",
    "building2.display_info()"
   ],
   "metadata": {
    "id": "7gBu0ESOMCpG"
   },
   "execution_count": null,
   "outputs": []
  },
  {
   "cell_type": "markdown",
   "source": [
    "3. (5б). Створіть клас, де атрибути мають різні рівні доступу. Спробуйте отримати їхні значення та опишіть результати."
   ],
   "metadata": {
    "id": "HoqSCZt1MHn5"
   }
  },
  {
   "cell_type": "code",
   "source": [
    "class AccessExample:\n",
    "    def __init__(self):\n",
    "        self.public_attr = \"Public\"\n",
    "        self._protected_attr = \"Protected\"\n",
    "        self.__private_attr = \"Private\"\n",
    "\n",
    "\n",
    "example = AccessExample()\n",
    "print(example.public_attr)  # \"Public\"\n",
    "print(example._protected_attr)  # \"Protected\"\n",
    "# print(example.__private_attr)  # Error"
   ],
   "metadata": {
    "id": "r9b3vJxBMSPV"
   },
   "execution_count": null,
   "outputs": []
  },
  {
   "cell_type": "markdown",
   "source": [
    "4. (7б). Як ви розумієте термін self? Для чого використовується метод __init __?"
   ],
   "metadata": {
    "id": "5op2m2vgMSkZ"
   }
  },
  {
   "cell_type": "markdown",
   "source": [
    "self — це посилання на поточний обʼєкт класу. Використовується для доступу до атрибутів і методів обʼєкта.\n",
    "\n",
    "_ _ init _ _ — це спеціальний метод, який називається конструктором. Він викликається при створенні нового обʼєкта класу і використовується для ініціалізації атрибутів."
   ],
   "metadata": {
    "id": "DyiPqNRvMasx"
   }
  },
  {
   "cell_type": "markdown",
   "source": [
    "5. (9б). Створіть клас 3D-фігура без атрибутів, з методом get_volume для отримання об'єму фігури, що повертає 0 та __add __, який приймає self та other в якості аргументів, а повертає суму об'ємів 3d-фігур self та other."
   ],
   "metadata": {
    "id": "-6X8EGfjMd2y"
   }
  },
  {
   "cell_type": "code",
   "source": [
    "class Shape3D:\n",
    "    def get_volume(self):\n",
    "        return 0\n",
    "\n",
    "    def __add__(self, other):\n",
    "        return self.get_volume() + other.get_volume()"
   ],
   "metadata": {
    "id": "4rvO_wYUMaEr",
    "ExecuteTime": {
     "end_time": "2025-03-17T19:12:36.673089Z",
     "start_time": "2025-03-17T19:12:36.664654Z"
    }
   },
   "outputs": [],
   "execution_count": 2
  },
  {
   "cell_type": "markdown",
   "source": [
    "6. (11б). Створіть 2 дочірніх класи від 3d-фігура: Циліндр та Куб, які мають атрибути, необхідні для розрахунку об'єму. Визначте метод get_volume в кожному з них так, щоби вони розраховували об'єм у залежності від формули для кожного типу фігури. Створіть обʼєкт класу Циліндр та обʼєкт класу Куб. Виконайте операцію суми за допомогою оператора + між ними, аби знайти сумарний об'єм."
   ],
   "metadata": {
    "id": "SFcKnnv5Mo_z"
   }
  },
  {
   "cell_type": "code",
   "source": [
    "import math\n",
    "\n",
    "class Cylinder(Shape3D):\n",
    "    def __init__(self, radius, height):\n",
    "        self.radius = radius\n",
    "        self.height = height\n",
    "\n",
    "    def get_volume(self):\n",
    "        return math.pi * self.radius**2 * self.height\n",
    "\n",
    "class Cube(Shape3D):\n",
    "    def __init__(self, side):\n",
    "        self.side = side\n",
    "\n",
    "    def get_volume(self):\n",
    "        return self.side**3\n",
    "\n",
    "\n",
    "cylinder = Cylinder(2, 5)\n",
    "cube = Cube(3)\n",
    "\n",
    "\n",
    "total_volume = cylinder + cube\n",
    "print(total_volume)"
   ],
   "metadata": {
    "id": "H3GVNr69Muf3"
   },
   "execution_count": null,
   "outputs": []
  },
  {
   "cell_type": "markdown",
   "source": [
    "7. (3б). Продемонструйте різницю між isinstance та issubclass."
   ],
   "metadata": {
    "id": "HCvR206YMvLK"
   }
  },
  {
   "cell_type": "code",
   "source": [
    "# isinstance — checks whether an object is an instance of a specific class or its subclass.\n",
    "# issubclass — checks whether one class is a subclass of another.\n",
    "\n",
    "print(isinstance(cylinder, Shape3D))  # True\n",
    "print(issubclass(Cylinder, Shape3D))  # True"
   ],
   "metadata": {
    "id": "L_V1bBvDM0GN"
   },
   "execution_count": null,
   "outputs": []
  },
  {
   "cell_type": "markdown",
   "source": [
    "8. (13б). Створіть клас EWallet з приватними атрибутами balance та id. Реалізуйте методи поповнення та зняття коштів, забезпечивши належну інкапсуляцію. Підказка: використовуйте декоратори property та setter."
   ],
   "metadata": {
    "id": "jjsaBZ-iM0Qq"
   }
  },
  {
   "cell_type": "code",
   "source": [
    "class EWallet:\n",
    "    def __init__(self, id):\n",
    "        self.__balance = 0\n",
    "        self.__id = id\n",
    "\n",
    "    @property\n",
    "    def balance(self):\n",
    "        return self.__balance\n",
    "\n",
    "    def deposit(self, amount):\n",
    "        if amount > 0:\n",
    "            self.__balance += amount\n",
    "\n",
    "    def withdraw(self, amount):\n",
    "        if 0 < amount <= self.__balance:\n",
    "            self.__balance -= amount\n",
    "\n",
    "\n",
    "wallet = EWallet(\"600\")\n",
    "wallet.deposit(100)\n",
    "wallet.withdraw(50)\n",
    "print(wallet.balance)  #  50"
   ],
   "metadata": {
    "id": "xCvZ7lh8M7YA",
    "ExecuteTime": {
     "end_time": "2025-03-17T19:26:45.520666Z",
     "start_time": "2025-03-17T19:26:45.513317Z"
    }
   },
   "outputs": [
    {
     "name": "stdout",
     "output_type": "stream",
     "text": [
      "50\n"
     ]
    }
   ],
   "execution_count": 3
  },
  {
   "cell_type": "markdown",
   "source": [
    "9. (11б). Створіть клас ShoppingCart, який містить список об'єктів типу Item. Реалізуйте методи для додавання айтемів, їх видалення та відображення списку айтемів."
   ],
   "metadata": {
    "id": "tIzL2SJTM8ft"
   }
  },
  {
   "cell_type": "code",
   "source": [
    "class Item:\n",
    "    def __init__(self, name, price):\n",
    "        self.name = name\n",
    "        self.price = price\n",
    "\n",
    "class ShoppingCart:\n",
    "    def __init__(self):\n",
    "        self.items = []\n",
    "\n",
    "    def add_item(self, item):\n",
    "        self.items.append(item)\n",
    "\n",
    "    def remove_item(self, item_name):\n",
    "        self.items = [item for item in self.items if item.name != item_name]\n",
    "\n",
    "    def display_items(self):\n",
    "        for item in self.items:\n",
    "            print(f\"{item.name}: ${item.price}\")\n",
    "\n",
    "\n",
    "cart = ShoppingCart()\n",
    "cart.add_item(Item(\"Pes Patronus\", 15000))\n",
    "cart.add_item(Item(\"Javelin\", 216717))\n",
    "cart.display_items()"
   ],
   "metadata": {
    "id": "HWxfJKLtNAUZ",
    "ExecuteTime": {
     "end_time": "2025-03-17T19:31:07.976228Z",
     "start_time": "2025-03-17T19:31:07.970784Z"
    }
   },
   "outputs": [
    {
     "name": "stdout",
     "output_type": "stream",
     "text": [
      "Pes Patronus: $15000\n",
      "Javelin: $216717\n"
     ]
    }
   ],
   "execution_count": 5
  },
  {
   "cell_type": "markdown",
   "source": [
    "10. (13б). Створіть клас Vehicle з атрибутами brand (manufacturer) та production_age. Створіть ще один клас Engine з такими атрибутами, як type (ex. petrol) та size (volume, litres). Створіть клас Car, який успадковує обидва класи Vehicle та Engine. Продемонструйте використання множинної спадковості, створивши обʼєкт класу Car та отримавши mro для цього класу."
   ],
   "metadata": {
    "id": "lmV8pAwwNIqu"
   }
  },
  {
   "cell_type": "code",
   "source": [
    "class Vehicle:\n",
    "    def __init__(self, brand, production_age):\n",
    "        self.brand = brand\n",
    "        self.production_age = production_age\n",
    "\n",
    "class Engine:\n",
    "    def __init__(self, type, size):\n",
    "        self.type = type\n",
    "        self.size = size\n",
    "\n",
    "class Car(Vehicle, Engine):\n",
    "    def __init__(self, brand, production_age, type, size):\n",
    "        Vehicle.__init__(self, brand, production_age)\n",
    "        Engine.__init__(self, type, size)\n",
    "\n",
    "\n",
    "car = Car(\"Reno\", 2020, \"Petrol\", 2.0)\n",
    "print(car.brand, car.type)\n",
    "\n",
    "print(Car.mro())"
   ],
   "metadata": {
    "id": "R49grKlWNPeN",
    "ExecuteTime": {
     "end_time": "2025-03-17T19:40:50.420655Z",
     "start_time": "2025-03-17T19:40:50.413183Z"
    }
   },
   "outputs": [
    {
     "name": "stdout",
     "output_type": "stream",
     "text": [
      "Reno Petrol\n",
      "[<class '__main__.Car'>, <class '__main__.Vehicle'>, <class '__main__.Engine'>, <class 'object'>]\n"
     ]
    }
   ],
   "execution_count": 6
  },
  {
   "cell_type": "markdown",
   "source": [
    "# II. Iterator"
   ],
   "metadata": {
    "id": "dIJyUiNBFG8G"
   }
  },
  {
   "cell_type": "markdown",
   "source": [
    "11. (4б). Визначте рядок(str) з 4ма різними за значенням символами. Створіть ітератор на основі цього рядка. Викличте 5 разів функцію next на ітераторі, 4ри перших з них огорніть у ф-цію print()."
   ],
   "metadata": {
    "id": "13vsm0NyKIzL"
   }
  },
  {
   "cell_type": "code",
   "source": [
    "my_string = \"abcd\"\n",
    "my_iterator = iter(my_string)\n",
    "\n",
    "print(next(my_iterator))  # a\n",
    "print(next(my_iterator))  # b\n",
    "print(next(my_iterator))  # c\n",
    "print(next(my_iterator))  # d\n",
    "# print(next(my_iterator))  # StopIteration"
   ],
   "metadata": {
    "id": "81ntabAkKuz-"
   },
   "execution_count": null,
   "outputs": []
  },
  {
   "cell_type": "markdown",
   "source": [
    "А що якщо викликати цю ж функцію на рядку?"
   ],
   "metadata": {
    "id": "aekWHGXOLRsO"
   }
  },
  {
   "cell_type": "code",
   "source": [
    "my_string = \"abcd\"\n",
    "\n",
    "try:\n",
    "    print(next(my_string))  # Error\n",
    "except TypeError as e:\n",
    "    print(f\"Error: {e}\")"
   ],
   "metadata": {
    "id": "mxATGsErLV1i"
   },
   "execution_count": null,
   "outputs": []
  },
  {
   "cell_type": "markdown",
   "source": [
    " 12. (5б). Опишіть своїми словами в одному реченні, як ви розумієте різницю між ітерабельними обʼєктами та ітераторами (можна на прикладі)."
   ],
   "metadata": {
    "id": "XwtMEopwJ4pH"
   }
  },
  {
   "cell_type": "markdown",
   "source": "Ітерабельний обʼєкт — це обʼєкт, який можна перебирати (наприклад, список), а ітератор — це обʼєкт, який фактично виконує перебір (наприклад, результат виклику iter() на списку).",
   "metadata": {
    "id": "-sHrODc3KFn8"
   }
  },
  {
   "cell_type": "markdown",
   "source": [
    "13. (11б). Створіть клас, що має визначений Iterator Protocol та при кожному виклику next повертає назву дня тижня, поки вони не вичерпаються. Зверніть увагу, що порядок має значення."
   ],
   "metadata": {
    "id": "E9qJWmNbK8Gl"
   }
  },
  {
   "cell_type": "code",
   "source": [
    "class WeekDays:\n",
    "    def __init__(self):\n",
    "        self.days = [\"Monday\", \"Tuesday\", \"Wednesday\", \"Thursday\", \"Friday\", \"Saturday\", \"Sunday\"]\n",
    "        self.index = 0\n",
    "\n",
    "    def __iter__(self):\n",
    "        return self\n",
    "\n",
    "    def __next__(self):\n",
    "        if self.index < len(self.days):\n",
    "            day = self.days[self.index]\n",
    "            self.index += 1\n",
    "            return day\n",
    "        else:\n",
    "            raise StopIteration\n",
    "\n",
    "\n",
    "week = WeekDays()\n",
    "for day in week:\n",
    "    print(day)"
   ],
   "metadata": {
    "id": "cqx-g_RsLo6I",
    "ExecuteTime": {
     "end_time": "2025-03-17T19:49:17.480087Z",
     "start_time": "2025-03-17T19:49:17.472661Z"
    }
   },
   "outputs": [
    {
     "name": "stdout",
     "output_type": "stream",
     "text": [
      "Monday\n",
      "Tuesday\n",
      "Wednesday\n",
      "Thursday\n",
      "Friday\n",
      "Saturday\n",
      "Sunday\n"
     ]
    }
   ],
   "execution_count": 7
  },
  {
   "cell_type": "markdown",
   "source": [
    "# Вітаю! Ви велика(ий) молодець, що впоралась(вся). Похваліть себе та побалуйте чимось приємним. Я Вами пишаюся.\n",
    "Хвалю"
   ],
   "metadata": {
    "id": "Z3E3S_s1Fv7-"
   }
  }
 ]
}
