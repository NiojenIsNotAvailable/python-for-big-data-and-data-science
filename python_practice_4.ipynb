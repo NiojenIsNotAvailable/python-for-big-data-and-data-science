{
 "cells": [
  {
   "cell_type": "markdown",
   "metadata": {
    "id": "kXpppdVm6wFy"
   },
   "source": [
    "# Горячок Дарина група 5\n",
    "\n",
    "# I. Functions. Arguments."
   ]
  },
  {
   "cell_type": "markdown",
   "metadata": {
    "id": "u_krJdlbAkVz"
   },
   "source": [
    "1. (5б) Назвіть основні 4 смислові  частини, з яких складається функція."
   ]
  },
  {
   "cell_type": "markdown",
   "metadata": {
    "id": "KKTrTXmHAptb"
   },
   "source": [
    "1. Ім'я функції (назва для виклику функції)\n",
    "2. Аргументи/параметри (дані, які передаються в функцію для подальшої обробки)\n",
    "3. Тіло функції (блок коду, який виконується при виклику функції)\n",
    "4. Return (оператор, який повертає результат роботи)"
   ]
  },
  {
   "cell_type": "markdown",
   "metadata": {
    "id": "ORM4PqJQAtDM"
   },
   "source": [
    "2. (3б) Визначте функцію, що приймає 2 аргументи та повертає результат ділення 1го аргумента на інший."
   ]
  },
  {
   "cell_type": "code",
   "metadata": {
    "id": "EuDx-z8M6sLo"
   },
   "source": [
    "def divide(a, b):\n",
    "    return a / b"
   ],
   "outputs": [],
   "execution_count": null
  },
  {
   "cell_type": "markdown",
   "metadata": {
    "id": "5joQGQ-SAyMe"
   },
   "source": [
    "3. (2б) Викличте вище визначену функцію, де другий аргумент дорівнює 0."
   ]
  },
  {
   "cell_type": "code",
   "metadata": {
    "id": "V5cBV1LOA3d-"
   },
   "source": "result = divide(10, 0)",
   "outputs": [],
   "execution_count": null
  },
  {
   "cell_type": "markdown",
   "metadata": {
    "id": "QyimWgW8A43-"
   },
   "source": [
    "4. (4б) Перевизначте функцію так, щоби у випадку ділення на 0 функція повертала None, а в решті випадків - результат розрахунків."
   ]
  },
  {
   "cell_type": "code",
   "metadata": {
    "id": "7VIODtSjA8Ek"
   },
   "source": [
    "def divide(a, b):\n",
    "    if b == 0:\n",
    "        return None\n",
    "    return a / b"
   ],
   "outputs": [],
   "execution_count": null
  },
  {
   "cell_type": "markdown",
   "metadata": {
    "id": "Y8mN0GfkA81l"
   },
   "source": [
    "5. (5б) Визначте функцію, що віднімає одне число від іншого (підказка: це буде 2 аргументи функції). При чому, якщо не визначити, скільки саме має бути віднято від числа, за замовчуванням має відніматися 1. Викличте функцію, передаючи тільки один аргумент."
   ]
  },
  {
   "cell_type": "code",
   "metadata": {
    "id": "vg1kxkdgBA50"
   },
   "source": [
    "def subtract(a, b=1):\n",
    "    return a - b\n",
    "\n",
    "result = subtract(10)"
   ],
   "outputs": [],
   "execution_count": null
  },
  {
   "cell_type": "markdown",
   "metadata": {
    "id": "D3mwQGNOBBs4"
   },
   "source": [
    "6. (7б) Визначте функцію, яка приймає iterable (ітерабельний обʼєкт, напр. список), що складається з 7ми рядкових значень - назв погодних умов (напр. \"sunny\") за кожен день у тижні. Повертає функція словник, де ключами є рядки з погодними умовами, а значеннями - кількість разів, скільки дана погода була протягом тижня (напр. {'sunny': 1, ...}). Викличте цю функцію та виведіть результат її роботи на екран."
   ]
  },
  {
   "cell_type": "code",
   "metadata": {
    "id": "OsWm-hKcBFyn"
   },
   "source": [
    "def count_weather(weather_list):\n",
    "    weather_count = {}\n",
    "    for weather in weather_list:\n",
    "        if weather in weather_count:\n",
    "            weather_count[weather] += 1\n",
    "        else:\n",
    "            weather_count[weather] = 1\n",
    "    return weather_count\n",
    "\n",
    "weather_data = [\"sunny\", \"rainy\", \"sunny\", \"cloudy\", \"rainy\", \"sunny\", \"cloudy\"]\n",
    "print(count_weather(weather_data))"
   ],
   "outputs": [],
   "execution_count": null
  },
  {
   "cell_type": "markdown",
   "metadata": {
    "id": "RMiCcdOsBKQT"
   },
   "source": [
    "7. (15б) Напишіть програму, яка б шукала необхідне число у впорядкованому списку цілочислених значень, де\n",
    "число має вводитись з консолі.\n",
    "власне алгоритм пошуку винесений в окрему функцію, яка повертає булеве значення (знайдено число - True, не знайдено - False).\n",
    "в залежності від результату функції, виведіть на екран повідомлення про успішний або ж неуспішний пошук.\n",
    "Зауваження: використовувати оператор in заборонено."
   ]
  },
  {
   "cell_type": "code",
   "metadata": {
    "id": "UNCZg65OBOy-"
   },
   "source": [
    "def binary_search(arr, target):\n",
    "    low, high = 0, len(arr) - 1\n",
    "    while low <= high:\n",
    "        mid = (low + high) // 2\n",
    "        if arr[mid] == target:\n",
    "            return True\n",
    "        elif arr[mid] < target:\n",
    "            low = mid + 1\n",
    "        else:\n",
    "            high = mid - 1\n",
    "    return False\n",
    "\n",
    "numbers = [1, 3, 5, 7, 9, 11, 13]\n",
    "target = int(input(\"Enter number: \"))\n",
    "if binary_search(numbers, target):\n",
    "    print(\"Number found!\")\n",
    "else:\n",
    "    print(\"Number not found.\")"
   ],
   "outputs": [],
   "execution_count": null
  },
  {
   "cell_type": "markdown",
   "metadata": {
    "id": "Ae1n_OvLBTsy"
   },
   "source": [
    "# II. Lambda functions."
   ]
  },
  {
   "cell_type": "markdown",
   "metadata": {
    "id": "xaD_wSlaCWen"
   },
   "source": [
    "8. (4б) В яких випадках варто використовувати лямбда-функції?"
   ]
  },
  {
   "cell_type": "markdown",
   "metadata": {
    "id": "42MB6OoLCakR"
   },
   "source": "Лямбда-функції варто використовувати для коротких і простих операцій, які не потребують окремого визначення функції через def. Вони зручні для фільтрації, сортування або застосування функцій до елементів списку."
  },
  {
   "cell_type": "markdown",
   "metadata": {
    "id": "USrzrk7GCedk"
   },
   "source": [
    "9. (9б) Визначте список з рядками. Після цього визначте анонімну функцію для отримання першого символу у верхньому регістрі для кожного рядка списку.\n",
    "Підказка: використовуйте анонімну функцію в якості агрумента до вбудованої ф-ції, яка створена для застосування функцій над iterable обʼєктами. Результат виведіть на екран у вигляді кортежу."
   ]
  },
  {
   "cell_type": "code",
   "metadata": {
    "id": "M8QWUsMlCjWH"
   },
   "source": [
    "words = [\"kite\", \"yuppie\", \"sweet\"]\n",
    "first_letters = tuple(map(lambda x: x[0].upper(), words))\n",
    "print(first_letters)"
   ],
   "outputs": [],
   "execution_count": null
  },
  {
   "cell_type": "markdown",
   "metadata": {
    "id": "9fyUhXOoCtGp"
   },
   "source": [
    "10. (10б) Визначте список з числовими значеннями (і цілими, і з рухомою комою). а) Відфільтруйте всі числа, які діляться націло на 3 за допомогою вбудованої функції та анонімної функції в якості аргумента). Збережіть результат у змінній, не приводяти явно до будь-якого типу. б) Використовуючи результат на кроці 12.а у якості аргументу, та за допомогою лямбда-функції в якості іншого аргументу до вбудованої функції, додайте до кожного елементу число 1 та опісля зведіть у квадрат. Остаточний результат приведіть явно до списку та виведіть на екран."
   ]
  },
  {
   "cell_type": "code",
   "metadata": {
    "id": "exEx2_okCsql"
   },
   "source": [
    "numbers = [1, 2, 3, 4, 5, 6, 7, 8, 9, 10]\n",
    "filtered = filter(lambda x: x % 3 == 0, numbers)\n",
    "result = list(map(lambda x: (x + 1) ** 2, filtered))\n",
    "print(result)"
   ],
   "outputs": [],
   "execution_count": null
  },
  {
   "cell_type": "markdown",
   "metadata": {
    "id": "o_x8cG_WC7jp"
   },
   "source": [
    "# III. Decorators."
   ]
  },
  {
   "cell_type": "markdown",
   "metadata": {
    "id": "mhxS4-mfC8LQ"
   },
   "source": [
    "11. (11б) Визначте декоратор, який би виводив у консоль повідомлення про початок роботи і назву функції (напр. my_function._ _ name _ _), а після відпрацювання функції - повідомлення про закінчення роботи і назву функції, що задекорована."
   ]
  },
  {
   "cell_type": "code",
   "metadata": {
    "id": "srd1ygWjDGhO"
   },
   "source": [
    "def decorator(func):\n",
    "    def wrapper(*args, **kwargs):\n",
    "        print(f\"Starting: {func.__name__}\")\n",
    "        result = func(*args, **kwargs)\n",
    "        print(f\"Ending: {func.__name__}\")\n",
    "        return result\n",
    "    return wrapper"
   ],
   "outputs": [],
   "execution_count": null
  },
  {
   "cell_type": "markdown",
   "metadata": {
    "id": "rxGZwVBiDph3"
   },
   "source": [
    "12. (4б) Задекоруйте двома різними способами функції з завдання 4 та 5 декоратором із завдання 11. (**УВАГА**: не декоруйте функції двічі!)."
   ]
  },
  {
   "cell_type": "code",
   "metadata": {
    "id": "06lj7eq_DwZe"
   },
   "source": [
    "@decorator\n",
    "def divide(a, b):\n",
    "    if b == 0:\n",
    "        return None\n",
    "    return a / b\n",
    "\n",
    "@decorator\n",
    "def subtract(a, b=1):\n",
    "    return a - b"
   ],
   "outputs": [],
   "execution_count": null
  },
  {
   "cell_type": "markdown",
   "metadata": {
    "id": "P0ep1urBDzf-"
   },
   "source": [
    "13. (2б) Викличте одну з задекорованих функцій і виведіть її результат на екран."
   ]
  },
  {
   "cell_type": "code",
   "metadata": {
    "id": "1QvTw0ctD0S3"
   },
   "source": "print(divide(10, 2))  # Виведе 5.0",
   "outputs": [],
   "execution_count": null
  },
  {
   "cell_type": "markdown",
   "metadata": {
    "id": "poECCpuoD2S9"
   },
   "source": [
    "# IV. Recursion."
   ]
  },
  {
   "cell_type": "markdown",
   "metadata": {
    "id": "DqkURfdsD7MY"
   },
   "source": [
    "14. (4б) Назвіть дві частини функції, які є обовʼязковими для того, щоб називати її рекурсивною."
   ]
  },
  {
   "cell_type": "markdown",
   "metadata": {
    "id": "HYW6ttIeIQIU"
   },
   "source": [
    "1. Базовий випадок - умова, за якою рекурсія припиняється\n",
    "2. Рекурсивний випадок - виклик функції з новими аргументами, які наближають до базового випадку"
   ]
  },
  {
   "cell_type": "markdown",
   "metadata": {
    "id": "WYVt20UmEA35"
   },
   "source": [
    "15. (15б) Визначте функцію, яка рекурсивно реалізовує пошук числа у послідовності Фібоначчі за її індексом (нумерація починається з нуля). Наприклад, потрібно знайти перше число у послідовності, тоді функція прийматиме 0 у якості аргумента і повертатиме 1, якщо ж знаходити третє число (індекс 2) послідовності, то функція повертатиме 2, якщо ж знаходити десяте число (індекс 9), то функція повертатиме 55."
   ]
  },
  {
   "cell_type": "code",
   "metadata": {
    "id": "xIMhp05AIpV_",
    "ExecuteTime": {
     "end_time": "2025-03-10T15:05:21.451189Z",
     "start_time": "2025-03-10T15:05:21.446522Z"
    }
   },
   "source": [
    "def fibonacci(n):\n",
    "    if n == 0 or n == 1:\n",
    "        return 1\n",
    "    return fibonacci(n - 1) + fibonacci(n - 2)\n",
    "\n",
    "print(fibonacci(9))"
   ],
   "outputs": [
    {
     "name": "stdout",
     "output_type": "stream",
     "text": [
      "55\n"
     ]
    }
   ],
   "execution_count": 24
  },
  {
   "cell_type": "markdown",
   "metadata": {
    "id": "ytXC8n_4Ip0W"
   },
   "source": [
    "# Вітаю! Ви велика(ий) молодець, що впоралась(вся). Похваліть себе та побалуйте чимось приємним. Я Вами пишаюся.\n",
    "\n",
    "Хвалю."
   ]
  }
 ],
 "metadata": {
  "colab": {
   "provenance": []
  },
  "kernelspec": {
   "display_name": "Python 3 (ipykernel)",
   "name": "python3",
   "language": "python"
  },
  "language_info": {
   "name": "python"
  }
 },
 "nbformat": 4,
 "nbformat_minor": 0
}
