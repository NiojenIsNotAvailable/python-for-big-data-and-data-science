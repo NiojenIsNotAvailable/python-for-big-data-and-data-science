{
 "nbformat": 4,
 "nbformat_minor": 0,
 "metadata": {
  "colab": {
   "provenance": [],
   "collapsed_sections": [
    "dwSyU2AjXwc-"
   ]
  },
  "kernelspec": {
   "name": "python3",
   "display_name": "Python 3 (ipykernel)",
   "language": "python"
  },
  "language_info": {
   "name": "python"
  }
 },
 "cells": [
  {
   "cell_type": "markdown",
   "source": [
    "# Daryna Horiachok group-5\n",
    "# I. NumPy."
   ],
   "metadata": {
    "id": "UfI7FZudfGwv"
   }
  },
  {
   "cell_type": "markdown",
   "source": [
    "**При реалізації завдань потрібно використовувати методи з бібліотеки numpy.**\n",
    "\n",
    "**Рішення з циклами будуть оцінені в 0 балів.**"
   ],
   "metadata": {
    "id": "fQcvdlwdimQb"
   }
  },
  {
   "cell_type": "markdown",
   "source": [
    "1. (2б) Імпортувати numpy загальноприйнятим способом."
   ],
   "metadata": {
    "id": "XmA3PWg8fJxn"
   }
  },
  {
   "cell_type": "code",
   "execution_count": null,
   "metadata": {
    "id": "JUli5tR8eTXG"
   },
   "outputs": [],
   "source": "import numpy as np"
  },
  {
   "cell_type": "markdown",
   "source": [
    "2. (3б) Визначити список з оцінками студента(ки) за семестр. Використовуючи його, створити одновимірний масив numpy."
   ],
   "metadata": {
    "id": "fppWPwoFjTrl"
   }
  },
  {
   "cell_type": "code",
   "source": [
    "grades_list = [85, 90, 78, 92, 88]\n",
    "grades_array = np.array(grades_list)"
   ],
   "metadata": {
    "id": "cuvs9lNAjVoB"
   },
   "execution_count": null,
   "outputs": []
  },
  {
   "cell_type": "markdown",
   "source": [
    "3. (4б) Визначити список зі списками, де кожен рядок списку формально означає магазин, а кожна колонка - певний продукт (батон, яйця першої категорії, молоко та ковбаса), а елементами на пересічі є ціни на ці продукти відповідно. Використовуючи цей список, створити матрицю (двовимірний масив) numpy."
   ],
   "metadata": {
    "id": "OGeLtAwcjcMB"
   }
  },
  {
   "cell_type": "code",
   "source": [
    "store_prices = [\n",
    "    [5.0, 12.5, 15.0, 45.0],  # Store 1\n",
    "    [4.8, 13.0, 14.5, 47.0],  # Store 2\n",
    "    [5.2, 11.5, 15.5, 46.0]   # Store 3\n",
    "]\n",
    "price_matrix = np.array(store_prices)"
   ],
   "metadata": {
    "id": "zJ9kEAv5jcVo"
   },
   "execution_count": null,
   "outputs": []
  },
  {
   "cell_type": "markdown",
   "source": [
    "4. (3б) Отримайте тип даних значень з масивів завдань 2 та 3. Виведіть їх на екран."
   ],
   "metadata": {
    "id": "wK7wrEw2jcix"
   }
  },
  {
   "cell_type": "code",
   "source": [
    "print(grades_array.dtype)  # int64\n",
    "print(price_matrix.dtype)  # float64"
   ],
   "metadata": {
    "id": "uDBL1x6vjcq9",
    "ExecuteTime": {
     "end_time": "2025-04-07T11:11:50.184478Z",
     "start_time": "2025-04-07T11:11:50.177108Z"
    }
   },
   "outputs": [
    {
     "name": "stdout",
     "output_type": "stream",
     "text": [
      "int64\n",
      "float64\n"
     ]
    }
   ],
   "execution_count": 9
  },
  {
   "cell_type": "markdown",
   "source": [
    "5. (3б) Отримайте форми (кортеж з кількістю рядків та колонок) масивів завдань 2 та 3. Виведіть їх на екран."
   ],
   "metadata": {
    "id": "nNhAgsC3jcyp"
   }
  },
  {
   "cell_type": "code",
   "source": [
    "print(grades_array.shape)  # (5,)\n",
    "print(price_matrix.shape)  # (3, 4)"
   ],
   "metadata": {
    "id": "Fi5oXTI8jc4-",
    "ExecuteTime": {
     "end_time": "2025-04-07T11:11:42.473980Z",
     "start_time": "2025-04-07T11:11:42.444940Z"
    }
   },
   "outputs": [
    {
     "name": "stdout",
     "output_type": "stream",
     "text": [
      "(5,)\n",
      "(3, 4)\n"
     ]
    }
   ],
   "execution_count": 8
  },
  {
   "cell_type": "markdown",
   "source": [
    "6. (5б) Поясніть, чому для масиву із завдання 2 ми отримали саме такий результат. На основі того ж самого масиву з цілими числами-оцінками створіть вектор-стовбець (не вектор-рядок!)."
   ],
   "metadata": {
    "id": "xYWQt0nwjc_i"
   }
  },
  {
   "cell_type": "markdown",
   "source": "Для масиву із завдання 2 ми отримали форму (5,) тому, що NumPy створив одновимірний масив із простого списку з 5 елементів. У NumPy одновимірний масив не має явних рядків чи стовпців, як у математиці, а є просто послідовністю чисел уздовж однієї осі. Тому форма позначається кортежем із одним числом (n,), де n — кількість елементів, у нашому випадку 5.",
   "metadata": {
    "id": "9IKiIbDBlF8S"
   }
  },
  {
   "cell_type": "code",
   "source": "grades_column = grades_array.reshape(-1, 1)",
   "metadata": {
    "id": "BHzbXm1bjdFa"
   },
   "execution_count": null,
   "outputs": []
  },
  {
   "cell_type": "markdown",
   "source": [
    "7. (6б) Тезисно поясніть різницю між Python списком та NumPy масивом."
   ],
   "metadata": {
    "id": "ilXJhOdujdLQ"
   }
  },
  {
   "cell_type": "markdown",
   "source": [
    "Тип даних: Python список може містити елементи різних типів (наприклад, int, str), NumPy масив — однорідний (всі елементи одного типу).\n",
    "\n",
    "Пам’ять: Python список зберігає вказівники на об’єкти, займаючи більше пам’яті, NumPy масив — компактний блок даних фіксованого типу.\n",
    "\n",
    "Операції: Python список не підтримує векторизовані операції, NumPy масив дозволяє швидкі поелементні обчислення.\n",
    "\n",
    "Розмірність: Python список — це зазвичай 1D (вкладені списки громіздкі), NumPy масив — природно багатовимірний (nD).\n",
    "\n",
    "Швидкість: NumPy масив швидший для числових обчислень завдяки оптимізації на рівні C, Python список повільніший.\n",
    "\n",
    "Функціональність: NumPy масив має вбудовані математичні методи (sum, mean тощо), Python список — базові операції."
   ],
   "metadata": {
    "id": "wM6QUiR4lhP5"
   }
  },
  {
   "cell_type": "markdown",
   "source": [
    "8. (7б) Створіть одновимірний масив за допомогою спеціальної функції numpy, який би відображав динаміку стабільно зростаючого (з рівними проміжками) прибутку з продажів  за тиждень, де у перший день не було продажів, а в останній день тижня вдалося заробити 1000 грн 50 коп."
   ],
   "metadata": {
    "id": "bpY-N8QZjdW-"
   }
  },
  {
   "cell_type": "code",
   "source": "weekly_profit = np.linspace(0, 1000.50, 7)",
   "metadata": {
    "id": "r3LcjnUKjdeu"
   },
   "execution_count": null,
   "outputs": []
  },
  {
   "cell_type": "markdown",
   "source": [
    "9. (8б) Створіть два масиви. Використовуючи їх, продемонструйте відмінність вертикального та горизонтального обʼєднання масивів."
   ],
   "metadata": {
    "id": "zQM0SY9jjebO"
   }
  },
  {
   "cell_type": "code",
   "source": [
    "array1 = np.array([1, 2, 3])\n",
    "array2 = np.array([4, 5, 6])\n",
    "vertical_stack = np.vstack((array1, array2))\n",
    "horizontal_stack = np.hstack((array1, array2))\n",
    "print(\"Vertical:\\n\", vertical_stack)\n",
    "print(\"Horizontal:\", horizontal_stack)"
   ],
   "metadata": {
    "id": "8uoi0_lxjeh-"
   },
   "execution_count": null,
   "outputs": []
  },
  {
   "cell_type": "markdown",
   "source": [
    "10. (12б) Визначити функцію, яка приймає на вході масив і транспонує його. Скористайтесь методом reshape. І не забудьте почати з docstrings."
   ],
   "metadata": {
    "id": "Fwh5D1pDm3t7"
   }
  },
  {
   "cell_type": "code",
   "source": [
    "def transpose_array(arr):\n",
    "    \"\"\"Transpose a 2D array using reshape.\n",
    "\n",
    "    Args:\n",
    "        arr: NumPy array to transpose\n",
    "\n",
    "    Returns:\n",
    "        Transposed NumPy array\n",
    "    \"\"\"\n",
    "    rows, cols = arr.shape\n",
    "    return arr.reshape(cols, rows)\n",
    "\n",
    "\n",
    "#matrix = np.array([[1, 2], [3, 4]])\n",
    "#print(transpose_array(matrix))"
   ],
   "metadata": {
    "id": "FSWZq0mkm31Z"
   },
   "execution_count": null,
   "outputs": []
  },
  {
   "cell_type": "markdown",
   "source": [
    "11. (7б) Створіть два масиви. Використовучи ці масиви, продемонструйте 1) операцію по-елементного додавання, 2) операцію по-елементного віднімання, 3) множення масиву на число, 4) операцію по-елементного множення, і 5) матричного множення."
   ],
   "metadata": {
    "id": "Nnxk8vqYm379"
   }
  },
  {
   "cell_type": "code",
   "source": [
    "a = np.array([[1, 2], [3, 4]])\n",
    "b = np.array([[5, 6], [7, 8]])\n",
    "print(\"1. Element-wise addition:\\n\", a + b)\n",
    "print(\"2. Element-wise subtraction:\\n\", a - b)\n",
    "print(\"3. Scalar multiplication:\\n\", a * 3)\n",
    "print(\"4. Element-wise multiplication:\\n\", a * b)\n",
    "print(\"5. Matrix multiplication:\\n\", np.dot(a, b))"
   ],
   "metadata": {
    "id": "qO1rfvmVm4BI",
    "ExecuteTime": {
     "end_time": "2025-04-07T11:28:46.686645Z",
     "start_time": "2025-04-07T11:28:46.645785Z"
    }
   },
   "outputs": [
    {
     "name": "stdout",
     "output_type": "stream",
     "text": [
      "1. Element-wise addition:\n",
      " [[ 6  8]\n",
      " [10 12]]\n",
      "2. Element-wise subtraction:\n",
      " [[-4 -4]\n",
      " [-4 -4]]\n",
      "3. Scalar multiplication:\n",
      " [[ 3  6]\n",
      " [ 9 12]]\n",
      "4. Element-wise multiplication:\n",
      " [[ 5 12]\n",
      " [21 32]]\n",
      "5. Matrix multiplication:\n",
      " [[19 22]\n",
      " [43 50]]\n"
     ]
    }
   ],
   "execution_count": 10
  },
  {
   "cell_type": "markdown",
   "source": [
    "12. (7б) Створіть двовимірний масив (матрицю) та розрахуйте: 1) мінімальне число, 2) максимальне число, 3) суму чисел, 4) мінімальні числа для кожного рядка, 5) максимальні числа для кожного стовпчика."
   ],
   "metadata": {
    "id": "7aGdszTGuMCC"
   }
  },
  {
   "cell_type": "code",
   "source": [
    "matrix = np.array([[1, 5, 3], [4, 2, 6], [9, 7, 8]])\n",
    "print(\"1. Min:\", np.min(matrix))\n",
    "print(\"2. Max:\", np.max(matrix))\n",
    "print(\"3. Sum:\", np.sum(matrix))\n",
    "print(\"4. Min per row:\", np.min(matrix, axis=1))\n",
    "print(\"5. Max per column:\", np.max(matrix, axis=0))"
   ],
   "metadata": {
    "id": "RL_39YdauMKS",
    "ExecuteTime": {
     "end_time": "2025-04-07T11:28:55.215849Z",
     "start_time": "2025-04-07T11:28:55.204941Z"
    }
   },
   "outputs": [
    {
     "name": "stdout",
     "output_type": "stream",
     "text": [
      "1. Min: 1\n",
      "2. Max: 9\n",
      "3. Sum: 45\n",
      "4. Min per row: [1 2 7]\n",
      "5. Max per column: [9 7 8]\n"
     ]
    }
   ],
   "execution_count": 11
  },
  {
   "cell_type": "markdown",
   "source": [
    "13. (6б) Використовуючи двовимірний масив з попереднього завдання, отримайте значення першого та другого стовпчика всіх рядків, окрім першого та останнього."
   ],
   "metadata": {
    "id": "uvyeF79RuMQz"
   }
  },
  {
   "cell_type": "code",
   "source": [
    "sliced = matrix[1:-1, 0:2]\n",
    "print(sliced)"
   ],
   "metadata": {
    "id": "NH6zBoNhuMWp"
   },
   "execution_count": null,
   "outputs": []
  },
  {
   "cell_type": "markdown",
   "source": [
    "14. (7б) Створіть матрицю , де деякі елементи повторюються. Знайдіть унікальні значення елементів цієї матриці та їхні частоти."
   ],
   "metadata": {
    "id": "g3DK8A3YuMcE"
   }
  },
  {
   "cell_type": "code",
   "source": [
    "matrix = np.array([[1, 2, 2], [3, 1, 4], [2, 3, 1]])\n",
    "unique, counts = np.unique(matrix, return_counts=True)\n",
    "print(\"Unique values:\", unique)\n",
    "print(\"Frequencies:\", counts)"
   ],
   "metadata": {
    "id": "n4qUDEBPuMhO",
    "ExecuteTime": {
     "end_time": "2025-04-07T11:29:16.799319Z",
     "start_time": "2025-04-07T11:29:16.779319Z"
    }
   },
   "outputs": [
    {
     "name": "stdout",
     "output_type": "stream",
     "text": [
      "Unique values: [1 2 3 4]\n",
      "Frequencies: [3 3 2 1]\n"
     ]
    }
   ],
   "execution_count": 12
  },
  {
   "cell_type": "markdown",
   "source": [
    "15. (20б) Тривимірні масиви (тензори) дуже широко використовуються для вирішення задач компʼютерного зору, де один вимір відповідає за висоту зображення у пікселях, другий - за ширину зображення у пікселях, а третій - RGB шар. Значення такого масиву зазвичай знаходяться у проміжку від 0 до 255, що є позначенням для інтенсивності того чи іншого кольору (див. зображення нижче). Пропоную вам, маючи знання з numpy, торкнутись до світу роботи з особливим типом даних - зображеннями. Сподіваюсь, когось з вас це зацікавить.\n",
    "\n",
    "Завдання:\n",
    "1. Визначити змінні для висоти та ширини майбутнього зображення. Присвоїти їм значення 480 та 720 відповідно.\n",
    "2. Визначте змінну для зображення, яка прийматиме тривимірний масив відповідного розміру з пустими значеннями, які ми заповнимо пізніше. Тип даних масиву вкажіть np.uint8 (це спеціальний тип даних для шкали пікселів зображень).\n",
    "3. Розділимо зображення навпіл по висоті. Для цього обчисліть серединний піксель та збережіть його у змінну. Будьте уважні, це число буде використовуватися для слайсингу, де крайні значення не включаються у діапазон.\n",
    "4. Розфарбуємо верхню частину зображення. За допомогою слайсингу на змінній з зображенням, виділіть першу половину пікселів по висоті, залишаючи всі пікселі в рядках по ширині та глибині (всі 3 RGB шари). Та призначте їй кортеж (0, 87, 184), що позначає колір у трьох RGB шарах відповідно.\n",
    "5. Тепер розфарбуємо нижню частину зображення. За допомогою слайсингу на змінній з зображенням, виділіть другу половину пікселів по висоті, залишаючи всі пікселі в рядках по ширині та глибині (всі 3 RGB шари). Та призначте їй кортеж (255, 215, 0), що позначає колір у трьох RGB шарах відповідно. Вже здогадуєтесь, що за зображення ви створюєте?)\n",
    "6. На останньому рядку комірки просто введіть назву змінної з зображенням.\n",
    "\n",
    "\n",
    "![текст посилання](https://drive.google.com/uc?id=15vio4RLXdoRDKvulHvpk7u9RQxbe_qXL)\n",
    "\n",
    "![текст посилання](https://drive.google.com/uc?id=1c7Z9yxNgFoMYFXUmmzNEd9cJDZE2TWov)\n",
    "\n",
    "![текст посилання](https://drive.google.com/uc?id=1d9bT_fqbxCV7_b8c8Cbx2KEGVJUKenqh)\n",
    "\n",
    "![текст посилання](https://drive.google.com/uc?id=16r2XB6MO-E9dltIqsbumtoIQhkRfsbZ_)\n"
   ],
   "metadata": {
    "id": "yE0_eoYOD0so"
   }
  },
  {
   "cell_type": "code",
   "source": [
    "import numpy as np\n",
    "import matplotlib.pyplot as plt #for image\n",
    "\n",
    "height, width = 480, 720\n",
    "image = np.zeros((height, width, 3), dtype=np.uint8)\n",
    "mid_pixel = height // 2\n",
    "image[:mid_pixel, :, :] = (0, 87, 184) #blue\n",
    "image[mid_pixel:, :, :] = (255, 215, 0) #yellow\n",
    "\n",
    "\n",
    "plt.imshow(image)\n",
    "plt.axis('off')\n",
    "plt.show()"
   ],
   "metadata": {
    "id": "QFn38NTNuMsr",
    "ExecuteTime": {
     "end_time": "2025-04-07T11:42:16.206847Z",
     "start_time": "2025-04-07T11:42:16.148644Z"
    }
   },
   "outputs": [
    {
     "data": {
      "text/plain": [
       "<Figure size 640x480 with 1 Axes>"
      ],
      "image/png": "[encoded data removed]"
     },
     "metadata": {},
     "output_type": "display_data"
    }
   ],
   "execution_count": 17
  },
  {
   "cell_type": "markdown",
   "source": [
    "# Бонус для тих, хто виконав останнє завдання."
   ],
   "metadata": {
    "id": "dwSyU2AjXwc-"
   }
  },
  {
   "cell_type": "markdown",
   "source": [
    "Слава Україні! 🇺🇦"
   ],
   "metadata": {
    "id": "TMtLMPzpYEf_"
   }
  },
  {
   "cell_type": "markdown",
   "source": [
    "# Вітаю! Ви велика(ий) молодець, що впоралась(вся). Похваліть себе та побалуйте чимось приємним. Я Вами пишаюся."
   ],
   "metadata": {
    "id": "r_vUkdO_h9dP"
   }
  }
 ]
}
